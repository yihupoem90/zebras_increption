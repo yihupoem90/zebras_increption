{
 "cells": [
  {
   "cell_type": "code",
   "execution_count": 26,
   "metadata": {},
   "outputs": [],
   "source": [
    "string.ascii_lowercase\n",
    "'abcdefghijklmnopqrstuvwxyz'\n",
    "zebra=list(string.ascii_lowercase)\n",
    "#zebra.remove('a')\n",
    "#for x in zebra:\n",
    "    #if x == 'e':\n",
    "      #  break\n",
    "    #if x=='e':\n",
    "\n",
    "\n",
    "\n",
    "#for x in 3:\n",
    " # new_list=zebra.pop(x)\n",
    "#zebra.append('ab')\n",
    "#zebra"
   ]
  },
  {
   "cell_type": "code",
   "execution_count": 27,
   "metadata": {},
   "outputs": [
    {
     "name": "stdout",
     "output_type": "stream",
     "text": [
      "what is your key?zebra\n"
     ]
    }
   ],
   "source": [
    "key=list(input('what is your key?'))"
   ]
  },
  {
   "cell_type": "code",
   "execution_count": 28,
   "metadata": {
    "collapsed": true
   },
   "outputs": [],
   "source": [
    "\n",
    "for x in key:\n",
    "    zebra.remove(x)\n"
   ]
  },
  {
   "cell_type": "code",
   "execution_count": 29,
   "metadata": {},
   "outputs": [
    {
     "name": "stdout",
     "output_type": "stream",
     "text": [
      "['z', 'e', 'b', 'r', 'a', 'c', 'd', 'f', 'g', 'h', 'i', 'j', 'k', 'l', 'm', 'n', 'o', 'p', 'q', 's', 't', 'u', 'v', 'w', 'x', 'y']\n"
     ]
    }
   ],
   "source": [
    "key.extend(zebra)\n",
    "print(key)"
   ]
  },
  {
   "cell_type": "code",
   "execution_count": 30,
   "metadata": {},
   "outputs": [
    {
     "name": "stdout",
     "output_type": "stream",
     "text": [
      "what you want to say?imissyou\n"
     ]
    }
   ],
   "source": [
    "word_unknown= list(input('what you want to say?'))\n"
   ]
  },
  {
   "cell_type": "code",
   "execution_count": 31,
   "metadata": {},
   "outputs": [
    {
     "data": {
      "text/plain": [
       "[8, 12, 8, 18, 18, 24, 14, 20]"
      ]
     },
     "execution_count": 31,
     "metadata": {},
     "output_type": "execute_result"
    }
   ],
   "source": [
    "original_alphabet=list(string.ascii_lowercase)\n",
    "index=[]\n",
    "for x in word_unknown:\n",
    "   index.append(original_alphabet.index(x))\n",
    "#original_alphabet\n",
    "#index"
   ]
  },
  {
   "cell_type": "code",
   "execution_count": 32,
   "metadata": {},
   "outputs": [
    {
     "name": "stdout",
     "output_type": "stream",
     "text": [
      "['g', 'k', 'g', 'q', 'q', 'x', 'm', 't']\n"
     ]
    }
   ],
   "source": [
    "code=[]\n",
    "for x in index:\n",
    "    code.append(key[x])\n",
    "    \n",
    "print(code)"
   ]
  },
  {
   "cell_type": "code",
   "execution_count": null,
   "metadata": {},
   "outputs": [],
   "source": []
  }
 ],
 "metadata": {
  "kernelspec": {
   "display_name": "Python [conda env:Anaconda3]",
   "language": "python",
   "name": "conda-env-Anaconda3-py"
  },
  "language_info": {
   "codemirror_mode": {
    "name": "ipython",
    "version": 3
   },
   "file_extension": ".py",
   "mimetype": "text/x-python",
   "name": "python",
   "nbconvert_exporter": "python",
   "pygments_lexer": "ipython3",
   "version": "3.5.3"
  }
 },
 "nbformat": 4,
 "nbformat_minor": 2
}
